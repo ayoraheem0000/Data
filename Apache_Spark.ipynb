{
  "nbformat": 4,
  "nbformat_minor": 0,
  "metadata": {
    "colab": {
      "provenance": [],
      "authorship_tag": "ABX9TyPcEc1hKCziFW3pxpAvcxQP",
      "include_colab_link": true
    },
    "kernelspec": {
      "name": "python3",
      "display_name": "Python 3"
    },
    "language_info": {
      "name": "python"
    }
  },
  "cells": [
    {
      "cell_type": "markdown",
      "metadata": {
        "id": "view-in-github",
        "colab_type": "text"
      },
      "source": [
        "<a href=\"https://colab.research.google.com/github/ayoraheem0000/Data/blob/main/Apache_Spark.ipynb\" target=\"_parent\"><img src=\"https://colab.research.google.com/assets/colab-badge.svg\" alt=\"Open In Colab\"/></a>"
      ]
    },
    {
      "cell_type": "code",
      "execution_count": 75,
      "metadata": {
        "id": "TyTyLn9gI9Sd"
      },
      "outputs": [],
      "source": []
    },
    {
      "cell_type": "markdown",
      "source": [
        "Data cleaning with Apache Spark"
      ],
      "metadata": {
        "id": "nBZ-uF_0I-HA"
      }
    },
    {
      "cell_type": "code",
      "source": [
        "from pyspark.sql import SparkSession\n",
        "\n",
        "spark = SparkSession.builder \\\n",
        "    .appName(\"DataCleaningExample\") \\\n",
        "    .getOrCreate()\n",
        "\n",
        "# Load data\n",
        "df = spark.read.csv(\"/content/sample_data/Retail.csv\", header=True, inferSchema=True)\n",
        "df.show()\n"
      ],
      "metadata": {
        "colab": {
          "base_uri": "https://localhost:8080/"
        },
        "id": "VYg4QCSwJEgh",
        "outputId": "9329a55e-1c74-420a-80ee-719d7469c0f6"
      },
      "execution_count": 76,
      "outputs": [
        {
          "output_type": "stream",
          "name": "stdout",
          "text": [
            "+--------------+----------+-----------+------+---+----------------+--------+--------------+------------+\n",
            "|Transaction ID|      Date|Customer ID|Gender|Age|Product Category|Quantity|Price per Unit|Total Amount|\n",
            "+--------------+----------+-----------+------+---+----------------+--------+--------------+------------+\n",
            "|             1|11/24/2023|    CUST001|  Male| 34|          Beauty|       3|            50|         150|\n",
            "|             2| 2/27/2023|    CUST002|Female| 26|        Clothing|       2|           500|        1000|\n",
            "|             3| 1/13/2023|    CUST003|  Male| 50|     Electronics|       1|            30|          30|\n",
            "|             4| 5/21/2023|    CUST004|  Male| 37|        Clothing|       1|           500|         500|\n",
            "|             5|  5/6/2023|    CUST005|  Male| 30|          Beauty|       2|            50|         100|\n",
            "|             6| 4/25/2023|    CUST006|Female| 45|          Beauty|       1|            30|          30|\n",
            "|             7| 3/13/2023|    CUST007|  Male| 46|        Clothing|       2|            25|          50|\n",
            "|             8| 2/22/2023|    CUST008|  Male| 30|     Electronics|       4|            25|         100|\n",
            "|             9|12/13/2023|    CUST009|  Male| 63|     Electronics|       2|           300|         600|\n",
            "|            10| 10/7/2023|    CUST010|Female| 52|        Clothing|       4|            50|         200|\n",
            "|            11| 2/14/2023|    CUST011|  Male| 23|        Clothing|       2|            50|         100|\n",
            "|            12|10/30/2023|    CUST012|  Male| 35|          Beauty|       3|            25|          75|\n",
            "|            13|  8/5/2023|    CUST013|  Male| 22|     Electronics|       3|           500|        1500|\n",
            "|            14| 1/17/2023|    CUST014|  Male| 64|        Clothing|       4|            30|         120|\n",
            "|            15| 1/16/2023|    CUST015|Female| 42|     Electronics|       4|           500|        2000|\n",
            "|            16| 2/17/2023|    CUST016|  Male| 19|        Clothing|       3|           500|        1500|\n",
            "|            17| 4/22/2023|    CUST017|Female| 27|        Clothing|       4|            25|         100|\n",
            "|            18| 4/30/2023|    CUST018|Female| 47|     Electronics|       2|            25|          50|\n",
            "|            19| 9/16/2023|    CUST019|Female| 62|        Clothing|       2|            25|          50|\n",
            "|            20| 11/5/2023|    CUST020|  Male| 22|        Clothing|       3|           300|         900|\n",
            "+--------------+----------+-----------+------+---+----------------+--------+--------------+------------+\n",
            "only showing top 20 rows\n",
            "\n"
          ]
        }
      ]
    },
    {
      "cell_type": "code",
      "source": [
        "#Drop rows with nulls:\n",
        "\n",
        "df = df.dropna()\n",
        "df.show()\n",
        "\n"
      ],
      "metadata": {
        "colab": {
          "base_uri": "https://localhost:8080/"
        },
        "id": "0u3NKbNzMcvE",
        "outputId": "a87d7c73-75d7-4c97-e59e-4dcc9fa49be0"
      },
      "execution_count": 77,
      "outputs": [
        {
          "output_type": "stream",
          "name": "stdout",
          "text": [
            "+--------------+----------+-----------+------+---+----------------+--------+--------------+------------+\n",
            "|Transaction ID|      Date|Customer ID|Gender|Age|Product Category|Quantity|Price per Unit|Total Amount|\n",
            "+--------------+----------+-----------+------+---+----------------+--------+--------------+------------+\n",
            "|             1|11/24/2023|    CUST001|  Male| 34|          Beauty|       3|            50|         150|\n",
            "|             2| 2/27/2023|    CUST002|Female| 26|        Clothing|       2|           500|        1000|\n",
            "|             3| 1/13/2023|    CUST003|  Male| 50|     Electronics|       1|            30|          30|\n",
            "|             4| 5/21/2023|    CUST004|  Male| 37|        Clothing|       1|           500|         500|\n",
            "|             5|  5/6/2023|    CUST005|  Male| 30|          Beauty|       2|            50|         100|\n",
            "|             6| 4/25/2023|    CUST006|Female| 45|          Beauty|       1|            30|          30|\n",
            "|             7| 3/13/2023|    CUST007|  Male| 46|        Clothing|       2|            25|          50|\n",
            "|             8| 2/22/2023|    CUST008|  Male| 30|     Electronics|       4|            25|         100|\n",
            "|             9|12/13/2023|    CUST009|  Male| 63|     Electronics|       2|           300|         600|\n",
            "|            10| 10/7/2023|    CUST010|Female| 52|        Clothing|       4|            50|         200|\n",
            "|            11| 2/14/2023|    CUST011|  Male| 23|        Clothing|       2|            50|         100|\n",
            "|            12|10/30/2023|    CUST012|  Male| 35|          Beauty|       3|            25|          75|\n",
            "|            13|  8/5/2023|    CUST013|  Male| 22|     Electronics|       3|           500|        1500|\n",
            "|            14| 1/17/2023|    CUST014|  Male| 64|        Clothing|       4|            30|         120|\n",
            "|            15| 1/16/2023|    CUST015|Female| 42|     Electronics|       4|           500|        2000|\n",
            "|            16| 2/17/2023|    CUST016|  Male| 19|        Clothing|       3|           500|        1500|\n",
            "|            17| 4/22/2023|    CUST017|Female| 27|        Clothing|       4|            25|         100|\n",
            "|            18| 4/30/2023|    CUST018|Female| 47|     Electronics|       2|            25|          50|\n",
            "|            19| 9/16/2023|    CUST019|Female| 62|        Clothing|       2|            25|          50|\n",
            "|            20| 11/5/2023|    CUST020|  Male| 22|        Clothing|       3|           300|         900|\n",
            "+--------------+----------+-----------+------+---+----------------+--------+--------------+------------+\n",
            "only showing top 20 rows\n",
            "\n"
          ]
        }
      ]
    },
    {
      "cell_type": "code",
      "source": [
        "# Print Schema\n",
        "df.printSchema()\n",
        "\n",
        "# Print Dataframe\n",
        "df.show()"
      ],
      "metadata": {
        "colab": {
          "base_uri": "https://localhost:8080/"
        },
        "id": "KgIy9OZENaiV",
        "outputId": "4cdb4a6f-d1d6-4664-8fc5-13066a577f8b"
      },
      "execution_count": 78,
      "outputs": [
        {
          "output_type": "stream",
          "name": "stdout",
          "text": [
            "root\n",
            " |-- Transaction ID: integer (nullable = true)\n",
            " |-- Date: string (nullable = true)\n",
            " |-- Customer ID: string (nullable = true)\n",
            " |-- Gender: string (nullable = true)\n",
            " |-- Age: integer (nullable = true)\n",
            " |-- Product Category: string (nullable = true)\n",
            " |-- Quantity: integer (nullable = true)\n",
            " |-- Price per Unit: integer (nullable = true)\n",
            " |-- Total Amount: integer (nullable = true)\n",
            "\n",
            "+--------------+----------+-----------+------+---+----------------+--------+--------------+------------+\n",
            "|Transaction ID|      Date|Customer ID|Gender|Age|Product Category|Quantity|Price per Unit|Total Amount|\n",
            "+--------------+----------+-----------+------+---+----------------+--------+--------------+------------+\n",
            "|             1|11/24/2023|    CUST001|  Male| 34|          Beauty|       3|            50|         150|\n",
            "|             2| 2/27/2023|    CUST002|Female| 26|        Clothing|       2|           500|        1000|\n",
            "|             3| 1/13/2023|    CUST003|  Male| 50|     Electronics|       1|            30|          30|\n",
            "|             4| 5/21/2023|    CUST004|  Male| 37|        Clothing|       1|           500|         500|\n",
            "|             5|  5/6/2023|    CUST005|  Male| 30|          Beauty|       2|            50|         100|\n",
            "|             6| 4/25/2023|    CUST006|Female| 45|          Beauty|       1|            30|          30|\n",
            "|             7| 3/13/2023|    CUST007|  Male| 46|        Clothing|       2|            25|          50|\n",
            "|             8| 2/22/2023|    CUST008|  Male| 30|     Electronics|       4|            25|         100|\n",
            "|             9|12/13/2023|    CUST009|  Male| 63|     Electronics|       2|           300|         600|\n",
            "|            10| 10/7/2023|    CUST010|Female| 52|        Clothing|       4|            50|         200|\n",
            "|            11| 2/14/2023|    CUST011|  Male| 23|        Clothing|       2|            50|         100|\n",
            "|            12|10/30/2023|    CUST012|  Male| 35|          Beauty|       3|            25|          75|\n",
            "|            13|  8/5/2023|    CUST013|  Male| 22|     Electronics|       3|           500|        1500|\n",
            "|            14| 1/17/2023|    CUST014|  Male| 64|        Clothing|       4|            30|         120|\n",
            "|            15| 1/16/2023|    CUST015|Female| 42|     Electronics|       4|           500|        2000|\n",
            "|            16| 2/17/2023|    CUST016|  Male| 19|        Clothing|       3|           500|        1500|\n",
            "|            17| 4/22/2023|    CUST017|Female| 27|        Clothing|       4|            25|         100|\n",
            "|            18| 4/30/2023|    CUST018|Female| 47|     Electronics|       2|            25|          50|\n",
            "|            19| 9/16/2023|    CUST019|Female| 62|        Clothing|       2|            25|          50|\n",
            "|            20| 11/5/2023|    CUST020|  Male| 22|        Clothing|       3|           300|         900|\n",
            "+--------------+----------+-----------+------+---+----------------+--------+--------------+------------+\n",
            "only showing top 20 rows\n",
            "\n"
          ]
        }
      ]
    },
    {
      "cell_type": "code",
      "source": [
        "# Remove rows where age is not realistic\n",
        "from pyspark.sql.functions import col\n",
        "\n",
        "df.filter (col('Price per Unit') > 120 ).show()\n",
        "\n"
      ],
      "metadata": {
        "colab": {
          "base_uri": "https://localhost:8080/"
        },
        "id": "2TmiFs_WOrF5",
        "outputId": "e626801c-05a4-4455-95fd-557d4a619659"
      },
      "execution_count": 79,
      "outputs": [
        {
          "output_type": "stream",
          "name": "stdout",
          "text": [
            "+--------------+----------+-----------+------+---+----------------+--------+--------------+------------+\n",
            "|Transaction ID|      Date|Customer ID|Gender|Age|Product Category|Quantity|Price per Unit|Total Amount|\n",
            "+--------------+----------+-----------+------+---+----------------+--------+--------------+------------+\n",
            "|             2| 2/27/2023|    CUST002|Female| 26|        Clothing|       2|           500|        1000|\n",
            "|             4| 5/21/2023|    CUST004|  Male| 37|        Clothing|       1|           500|         500|\n",
            "|             9|12/13/2023|    CUST009|  Male| 63|     Electronics|       2|           300|         600|\n",
            "|            13|  8/5/2023|    CUST013|  Male| 22|     Electronics|       3|           500|        1500|\n",
            "|            15| 1/16/2023|    CUST015|Female| 42|     Electronics|       4|           500|        2000|\n",
            "|            16| 2/17/2023|    CUST016|  Male| 19|        Clothing|       3|           500|        1500|\n",
            "|            20| 11/5/2023|    CUST020|  Male| 22|        Clothing|       3|           300|         900|\n",
            "|            21| 1/14/2023|    CUST021|Female| 50|          Beauty|       1|           500|         500|\n",
            "|            24|11/29/2023|    CUST024|Female| 49|        Clothing|       1|           300|         300|\n",
            "|            26| 10/7/2023|    CUST026|Female| 28|     Electronics|       2|           500|        1000|\n",
            "|            28| 4/23/2023|    CUST028|Female| 43|          Beauty|       1|           500|         500|\n",
            "|            30|10/29/2023|    CUST030|Female| 39|          Beauty|       3|           300|         900|\n",
            "|            31| 5/23/2023|    CUST031|  Male| 44|     Electronics|       4|           300|        1200|\n",
            "|            35|  8/5/2023|    CUST035|Female| 58|          Beauty|       3|           300|         900|\n",
            "|            36| 6/24/2023|    CUST036|  Male| 52|          Beauty|       3|           300|         900|\n",
            "|            42| 2/17/2023|    CUST042|  Male| 22|        Clothing|       3|           300|         900|\n",
            "|            43| 7/14/2023|    CUST043|Female| 48|        Clothing|       1|           300|         300|\n",
            "|            46| 6/26/2023|    CUST046|Female| 20|     Electronics|       4|           300|        1200|\n",
            "|            47| 11/6/2023|    CUST047|Female| 40|          Beauty|       3|           500|        1500|\n",
            "|            48| 5/16/2023|    CUST048|  Male| 54|     Electronics|       3|           300|         900|\n",
            "+--------------+----------+-----------+------+---+----------------+--------+--------------+------------+\n",
            "only showing top 20 rows\n",
            "\n"
          ]
        }
      ]
    },
    {
      "cell_type": "code",
      "source": [
        "df.show()\n",
        "df.write.csv(\"/content/sample_data/Retail_cleaned_data.cvs\", header=True)\n"
      ],
      "metadata": {
        "colab": {
          "base_uri": "https://localhost:8080/"
        },
        "id": "iWerhADARpK8",
        "outputId": "6098686e-9fe1-4781-b76e-b40ed144a013"
      },
      "execution_count": 80,
      "outputs": [
        {
          "output_type": "stream",
          "name": "stdout",
          "text": [
            "+--------------+----------+-----------+------+---+----------------+--------+--------------+------------+\n",
            "|Transaction ID|      Date|Customer ID|Gender|Age|Product Category|Quantity|Price per Unit|Total Amount|\n",
            "+--------------+----------+-----------+------+---+----------------+--------+--------------+------------+\n",
            "|             1|11/24/2023|    CUST001|  Male| 34|          Beauty|       3|            50|         150|\n",
            "|             2| 2/27/2023|    CUST002|Female| 26|        Clothing|       2|           500|        1000|\n",
            "|             3| 1/13/2023|    CUST003|  Male| 50|     Electronics|       1|            30|          30|\n",
            "|             4| 5/21/2023|    CUST004|  Male| 37|        Clothing|       1|           500|         500|\n",
            "|             5|  5/6/2023|    CUST005|  Male| 30|          Beauty|       2|            50|         100|\n",
            "|             6| 4/25/2023|    CUST006|Female| 45|          Beauty|       1|            30|          30|\n",
            "|             7| 3/13/2023|    CUST007|  Male| 46|        Clothing|       2|            25|          50|\n",
            "|             8| 2/22/2023|    CUST008|  Male| 30|     Electronics|       4|            25|         100|\n",
            "|             9|12/13/2023|    CUST009|  Male| 63|     Electronics|       2|           300|         600|\n",
            "|            10| 10/7/2023|    CUST010|Female| 52|        Clothing|       4|            50|         200|\n",
            "|            11| 2/14/2023|    CUST011|  Male| 23|        Clothing|       2|            50|         100|\n",
            "|            12|10/30/2023|    CUST012|  Male| 35|          Beauty|       3|            25|          75|\n",
            "|            13|  8/5/2023|    CUST013|  Male| 22|     Electronics|       3|           500|        1500|\n",
            "|            14| 1/17/2023|    CUST014|  Male| 64|        Clothing|       4|            30|         120|\n",
            "|            15| 1/16/2023|    CUST015|Female| 42|     Electronics|       4|           500|        2000|\n",
            "|            16| 2/17/2023|    CUST016|  Male| 19|        Clothing|       3|           500|        1500|\n",
            "|            17| 4/22/2023|    CUST017|Female| 27|        Clothing|       4|            25|         100|\n",
            "|            18| 4/30/2023|    CUST018|Female| 47|     Electronics|       2|            25|          50|\n",
            "|            19| 9/16/2023|    CUST019|Female| 62|        Clothing|       2|            25|          50|\n",
            "|            20| 11/5/2023|    CUST020|  Male| 22|        Clothing|       3|           300|         900|\n",
            "+--------------+----------+-----------+------+---+----------------+--------+--------------+------------+\n",
            "only showing top 20 rows\n",
            "\n"
          ]
        }
      ]
    },
    {
      "cell_type": "code",
      "source": [],
      "metadata": {
        "id": "FgleM3JXOoCo"
      },
      "execution_count": 80,
      "outputs": []
    }
  ]
}